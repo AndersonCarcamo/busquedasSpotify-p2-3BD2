{
 "cells": [
  {
   "cell_type": "code",
   "execution_count": 1,
   "metadata": {},
   "outputs": [
    {
     "name": "stderr",
     "output_type": "stream",
     "text": [
      "[nltk_data] Downloading package punkt to /home/ambar/nltk_data...\n",
      "[nltk_data]   Package punkt is already up-to-date!\n"
     ]
    }
   ],
   "source": [
    "from spimy2 import BSBIndexConstuction\n",
    "import pandas as pd"
   ]
  },
  {
   "cell_type": "code",
   "execution_count": 2,
   "metadata": {},
   "outputs": [
    {
     "name": "stderr",
     "output_type": "stream",
     "text": [
      "[nltk_data] Downloading package punkt to /home/ambar/nltk_data...\n",
      "[nltk_data]   Package punkt is already up-to-date!\n"
     ]
    }
   ],
   "source": [
    "from spimi import SPIMI"
   ]
  },
  {
   "cell_type": "code",
   "execution_count": 6,
   "metadata": {},
   "outputs": [],
   "source": [
    "# testeo\n",
    "path = './dataset/'\n",
    "data_path = path + 'spotify_songs_test2.csv'\n",
    "\n",
    "data = pd.read_csv(data_path)"
   ]
  },
  {
   "cell_type": "code",
   "execution_count": 3,
   "metadata": {},
   "outputs": [
    {
     "name": "stdout",
     "output_type": "stream",
     "text": [
      "Block 0 written to ./blocks/block_0.txt\n",
      "Block 1 written to ./blocks/block_1.txt\n",
      "Block 2 written to ./blocks/block_2.txt\n",
      "Block 3 written to ./blocks/block_3.txt\n",
      "Block 4 written to ./blocks/block_4.txt\n",
      "Block 5 written to ./blocks/block_5.txt\n"
     ]
    }
   ],
   "source": [
    "\n",
    "merged_files = BSBIndexConstuction(data)"
   ]
  },
  {
   "cell_type": "code",
   "execution_count": 7,
   "metadata": {},
   "outputs": [
    {
     "data": {
      "text/plain": [
       "['./blocks/block_0.txt',\n",
       " './blocks/block_1.txt',\n",
       " './blocks/block_2.txt',\n",
       " './blocks/block_3.txt',\n",
       " './blocks/block_4.txt',\n",
       " './blocks/block_5.txt',\n",
       " './blocks/block_6.txt',\n",
       " './blocks/block_7.txt',\n",
       " './blocks/block_8.txt',\n",
       " './blocks/block_9.txt',\n",
       " './blocks/block_10.txt',\n",
       " './blocks/block_11.txt',\n",
       " './blocks/block_12.txt',\n",
       " './blocks/block_13.txt',\n",
       " './blocks/block_14.txt',\n",
       " './blocks/block_15.txt',\n",
       " './blocks/block_16.txt',\n",
       " './blocks/block_17.txt',\n",
       " './blocks/block_18.txt',\n",
       " './blocks/block_19.txt',\n",
       " './blocks/block_20.txt',\n",
       " './blocks/block_21.txt',\n",
       " './blocks/block_22.txt',\n",
       " './blocks/block_23.txt',\n",
       " './blocks/block_24.txt',\n",
       " './blocks/block_25.txt',\n",
       " './blocks/block_26.txt',\n",
       " './blocks/block_27.txt',\n",
       " './blocks/block_28.txt',\n",
       " './blocks/block_29.txt',\n",
       " './blocks/block_30.txt',\n",
       " './blocks/block_31.txt',\n",
       " './blocks/block_32.txt',\n",
       " './blocks/block_33.txt',\n",
       " './blocks/block_34.txt',\n",
       " './blocks/block_35.txt',\n",
       " './blocks/block_36.txt',\n",
       " './blocks/block_37.txt',\n",
       " './blocks/block_38.txt',\n",
       " './blocks/block_39.txt',\n",
       " './blocks/block_40.txt',\n",
       " './blocks/block_41.txt',\n",
       " './blocks/block_42.txt',\n",
       " './blocks/block_43.txt',\n",
       " './blocks/block_44.txt',\n",
       " './blocks/block_45.txt',\n",
       " './blocks/block_46.txt',\n",
       " './blocks/block_47.txt',\n",
       " './blocks/block_48.txt',\n",
       " './blocks/block_49.txt',\n",
       " './blocks/block_50.txt',\n",
       " './blocks/block_51.txt',\n",
       " './blocks/block_52.txt',\n",
       " './blocks/block_53.txt',\n",
       " './blocks/block_54.txt',\n",
       " './blocks/block_55.txt',\n",
       " './blocks/block_56.txt',\n",
       " './blocks/block_57.txt',\n",
       " './blocks/block_58.txt',\n",
       " './blocks/block_59.txt',\n",
       " './blocks/block_60.txt',\n",
       " './blocks/block_61.txt',\n",
       " './blocks/block_62.txt',\n",
       " './blocks/block_63.txt',\n",
       " './blocks/block_64.txt',\n",
       " './blocks/block_65.txt',\n",
       " './blocks/block_66.txt',\n",
       " './blocks/block_67.txt',\n",
       " './blocks/block_68.txt',\n",
       " './blocks/block_69.txt',\n",
       " './blocks/block_70.txt',\n",
       " './blocks/block_71.txt',\n",
       " './blocks/block_72.txt',\n",
       " './blocks/block_73.txt',\n",
       " './blocks/block_74.txt',\n",
       " './blocks/block_75.txt',\n",
       " './blocks/block_76.txt',\n",
       " './blocks/block_77.txt',\n",
       " './blocks/block_78.txt',\n",
       " './blocks/block_79.txt',\n",
       " './blocks/block_80.txt',\n",
       " './blocks/block_81.txt',\n",
       " './blocks/block_82.txt',\n",
       " './blocks/block_83.txt',\n",
       " './blocks/block_84.txt',\n",
       " './blocks/block_85.txt',\n",
       " './blocks/block_86.txt',\n",
       " './blocks/block_87.txt',\n",
       " './blocks/block_88.txt',\n",
       " './blocks/block_89.txt',\n",
       " './blocks/block_90.txt',\n",
       " './blocks/block_91.txt',\n",
       " './blocks/block_92.txt',\n",
       " './blocks/block_93.txt',\n",
       " './blocks/block_94.txt',\n",
       " './blocks/block_95.txt']"
      ]
     },
     "execution_count": 7,
     "metadata": {},
     "output_type": "execute_result"
    }
   ],
   "source": [
    "spimi = SPIMI(size_per_block=10240*4,\n",
    "              output_folder='./blocks/',\n",
    "              ram_limit=1024*1024*1024*4,\n",
    "              size_per_block_out= 1024*5.9)\n",
    "\n",
    "spimi.BSBIndexConstuction(data)"
   ]
  },
  {
   "cell_type": "code",
   "execution_count": 11,
   "metadata": {},
   "outputs": [],
   "source": [
    "import math\n",
    "import os\n",
    "from collections import defaultdict\n",
    "from nltk.corpus import stopwords\n",
    "from nltk.stem import SnowballStemmer\n",
    "import regex as re"
   ]
  },
  {
   "cell_type": "code",
   "execution_count": null,
   "metadata": {},
   "outputs": [],
   "source": [
    "\n",
    "class CosineSimilaritySearch:\n",
    "    def __init__(self, block_folder):\n",
    "        self.block_folder = block_folder\n",
    "        self.stopwords = stopwords.words('spanish')  # ajusta el idioma si es necesario\n",
    "        self.stemmer = SnowballStemmer(language='spanish')  # ajusta el idioma si es necesario\n",
    "\n",
    "    def preprocess(self, text):\n",
    "        \"\"\"Preprocesa el texto: limpieza, stopword removal, stemming.\"\"\"\n",
    "        text = text.lower()\n",
    "        text = re.sub(r'[^a-zA-Z0-9_À-ÿ]', ' ', text)\n",
    "        words = [word for word in text.split() if word not in self.stopwords]\n",
    "        return [self.stemmer.stem(word) for word in words]\n",
    "\n",
    "    def calculate_query_vector(self, query_terms, df_dict, num_docs):\n",
    "        \"\"\"Calcula el vector TF-IDF para la consulta.\"\"\"\n",
    "        tf_query = defaultdict(int)\n",
    "        for term in query_terms:\n",
    "            tf_query[term] += 1\n",
    "        \n",
    "        query_vector = {}\n",
    "        for term, tf in tf_query.items():\n",
    "            idf = math.log((num_docs / df_dict[term])) if term in df_dict else 0\n",
    "            query_vector[term] = tf * idf\n",
    "        return query_vector\n",
    "\n",
    "    def load_block_terms(self, query_terms):\n",
    "        \"\"\"Carga solo los términos relevantes de los bloques para la consulta.\"\"\"\n",
    "        term_postings = {}\n",
    "        df_dict = {}\n",
    "        num_docs = 0\n",
    "\n",
    "        for filename in os.listdir(self.block_folder):\n",
    "            with open(os.path.join(self.block_folder, filename), 'r') as file:\n",
    "                for line in file:\n",
    "                    term, rest = line.split(\" (DF: \")\n",
    "                    if term not in query_terms:\n",
    "                        continue\n",
    "                    \n",
    "                    df, postings = rest.split(\"): \")\n",
    "                    df = int(df)\n",
    "                    df_dict[term] = df\n",
    "                    num_docs += df\n",
    "                    \n",
    "                    term_postings[term] = []\n",
    "                    postings_list = postings.strip().split(\"), (\")\n",
    "                    for posting in postings_list:\n",
    "                        doc_id, tf = map(int, posting.strip(\"()\").split(\", \"))\n",
    "                        term_postings[term].append((doc_id, tf))\n",
    "        return term_postings, df_dict, num_docs\n",
    "\n",
    "    def cosine_similarity(self, query_vector, doc_vectors):\n",
    "        \"\"\"Calcula la similitud de coseno entre la consulta y cada documento, con depuración.\"\"\"\n",
    "        doc_scores = defaultdict(float)\n",
    "        query_norm = math.sqrt(sum(weight**2 for weight in query_vector.values()))\n",
    "        \n",
    "        # Acumula pesos para cada documento y muestra detalles para depuración\n",
    "        print(\"Vector de la consulta:\", query_vector)\n",
    "        for term, query_weight in query_vector.items():\n",
    "            # Verificar si el término existe en doc_vectors antes de intentar acceder a él\n",
    "            if term in doc_vectors:\n",
    "                for doc_id, doc_tf in doc_vectors[term]:\n",
    "                    # Calcula el peso del término en el documento y lo acumula\n",
    "                    doc_weight = doc_tf * query_weight\n",
    "                    doc_scores[doc_id] += doc_weight\n",
    "                    print(f\"Documento {doc_id} - Término '{term}': TF={doc_tf}, Peso en doc={doc_weight}, Acumulado={doc_scores[doc_id]}\")\n",
    "\n",
    "        # Calcular norma del vector de cada documento y similitud de coseno\n",
    "        for doc_id in doc_scores:\n",
    "            # Calcular la norma del documento usando solo términos en query_vector\n",
    "            doc_norm = math.sqrt(\n",
    "                sum(\n",
    "                    (doc_tf * query_vector.get(term, 0))**2 \n",
    "                    for term in query_vector\n",
    "                    for doc_id_in_posting, doc_tf in doc_vectors.get(term, [])\n",
    "                    if doc_id_in_posting == doc_id\n",
    "                )\n",
    "            )\n",
    "            if doc_norm != 0:\n",
    "                doc_scores[doc_id] = doc_scores[doc_id] / (query_norm * doc_norm)\n",
    "            else:\n",
    "                doc_scores[doc_id] = 0\n",
    "            print(f\"Documento {doc_id} - Similaridad de coseno: {doc_scores[doc_id]}\")\n",
    "        \n",
    "        # Ordena y devuelve los resultados\n",
    "        return sorted(doc_scores.items(), key=lambda x: x[1], reverse=True)\n",
    "\n",
    "\n",
    "    def get_top_k_similar_documents(self, query, k=5):\n",
    "        # Procesar la consulta y realizar la búsqueda\n",
    "        query_terms = self.preprocess(query)\n",
    "        term_postings, df_dict, num_docs = self.load_block_terms(query_terms)\n",
    "        query_vector = self.calculate_query_vector(query_terms, df_dict, num_docs)\n",
    "        doc_scores = self.cosine_similarity(query_vector, term_postings)\n",
    "        \n",
    "        # Obtener los k documentos más similares\n",
    "        top_k_docs = doc_scores[:k]\n",
    "        \n",
    "        # Crear un DataFrame para mostrar los resultados\n",
    "        results_df = pd.DataFrame(top_k_docs, columns=[\"Document ID\", \"Cosine Similarity Score\"])\n",
    "        results_df.index = range(1, k + 1)  # Para mostrar 1, 2, ..., k en el índice\n",
    "        return results_df\n",
    "\n",
    "\n",
    "    def search(self, query):\n",
    "        query_terms = self.preprocess(query)\n",
    "        term_postings, df_dict, num_docs = self.load_block_terms(query_terms)\n",
    "        query_vector = self.calculate_query_vector(query_terms, df_dict, num_docs)\n",
    "        return self.cosine_similarity(query_vector, term_postings)\n"
   ]
  },
  {
   "cell_type": "code",
   "execution_count": 26,
   "metadata": {},
   "outputs": [],
   "source": [
    "import pandas as pd\n"
   ]
  },
  {
   "cell_type": "code",
   "execution_count": 45,
   "metadata": {},
   "outputs": [
    {
     "name": "stdout",
     "output_type": "stream",
     "text": [
      "track_id                                               02138lFv3Bzncr6ScNbLAF\n",
      "track_name                                                   Rattle Your Cage\n",
      "track_artist                                                   Skrizzly Adams\n",
      "lyrics                      Well I know you've been talking somebody When ...\n",
      "track_popularity                                                           44\n",
      "track_album_id                                         3RcttHMKlZ7K1ovxIANPd0\n",
      "track_album_name                                                    Young Man\n",
      "track_album_release_date                                           2019-11-15\n",
      "playlist_name                                       Supernatural Classic Rock\n",
      "playlist_id                                            6oghIlByD49KFGNmNU8GSH\n",
      "playlist_genre                                                           rock\n",
      "playlist_subgenre                                                classic rock\n",
      "danceability                                                            0.583\n",
      "energy                                                                  0.565\n",
      "key                                                                         1\n",
      "loudness                                                               -8.318\n",
      "mode                                                                        1\n",
      "speechiness                                                             0.123\n",
      "acousticness                                                            0.027\n",
      "instrumentalness                                                          0.0\n",
      "liveness                                                               0.0908\n",
      "valence                                                                 0.498\n",
      "tempo                                                                 179.874\n",
      "duration_ms                                                            209972\n",
      "language                                                                   en\n",
      "Name: 64, dtype: object\n"
     ]
    }
   ],
   "source": [
    "print(data.iloc[64])"
   ]
  },
  {
   "cell_type": "code",
   "execution_count": 51,
   "metadata": {},
   "outputs": [
    {
     "name": "stdout",
     "output_type": "stream",
     "text": [
      "Top K documentos más similares:\n",
      "   Document ID  Cosine Similarity Score\n",
      "1          254                 0.150164\n",
      "2          423                 0.150164\n",
      "3          457                 0.150164\n",
      "4          997                 0.150164\n",
      "5          769                 0.148044\n"
     ]
    }
   ],
   "source": [
    "\n",
    "\n",
    "block_folder = './blocks/'\n",
    "search_engine = CosineSimilaritySearch(block_folder)\n",
    "results_df = search_engine.get_top_k_similar_documents(\"yea you just can't walk away\", k=5)\n",
    "print(\"Top K documentos más similares:\")\n",
    "print(results_df)"
   ]
  }
 ],
 "metadata": {
  "kernelspec": {
   "display_name": "usr",
   "language": "python",
   "name": "python3"
  },
  "language_info": {
   "codemirror_mode": {
    "name": "ipython",
    "version": 3
   },
   "file_extension": ".py",
   "mimetype": "text/x-python",
   "name": "python",
   "nbconvert_exporter": "python",
   "pygments_lexer": "ipython3",
   "version": "3.12.7"
  }
 },
 "nbformat": 4,
 "nbformat_minor": 2
}
