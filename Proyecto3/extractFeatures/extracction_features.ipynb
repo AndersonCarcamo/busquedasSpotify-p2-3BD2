{
 "cells": [
  {
   "metadata": {},
   "cell_type": "markdown",
   "source": "#### Librerias",
   "id": "bb8273759e4d3fd5"
  },
  {
   "cell_type": "code",
   "id": "initial_id",
   "metadata": {
    "collapsed": true,
    "ExecuteTime": {
     "end_time": "2024-11-29T19:28:05.339773Z",
     "start_time": "2024-11-29T19:28:03.249210Z"
    }
   },
   "source": [
    "import pandas as pd\n",
    "import librosa\n",
    "import os\n",
    "import numpy as np\n",
    "import pickle\n",
    "import matplotlib.pyplot as plt"
   ],
   "outputs": [],
   "execution_count": 30
  },
  {
   "metadata": {},
   "cell_type": "markdown",
   "source": "#### Extraccion de Features",
   "id": "3d2840adb52318a6"
  },
  {
   "metadata": {
    "ExecuteTime": {
     "end_time": "2024-11-29T19:15:22.454685Z",
     "start_time": "2024-11-29T19:15:22.449079Z"
    }
   },
   "cell_type": "code",
   "source": [
    "path_metadata = '../../fma_metadata'\n",
    "\n",
    "raw_tracks = path_metadata + '/raw_tracks.csv'\n",
    "tracks = path_metadata + '/tracks.csv'"
   ],
   "id": "4a8cb52ebb4ea875",
   "outputs": [],
   "execution_count": 5
  },
  {
   "metadata": {
    "ExecuteTime": {
     "end_time": "2024-11-29T19:15:31.243506Z",
     "start_time": "2024-11-29T19:15:26.182417Z"
    }
   },
   "cell_type": "code",
   "source": "df_tracks = pd.read_csv(raw_tracks)",
   "id": "1da87a3227a56de0",
   "outputs": [],
   "execution_count": 6
  },
  {
   "metadata": {
    "ExecuteTime": {
     "end_time": "2024-11-29T19:16:10.535249Z",
     "start_time": "2024-11-29T19:16:10.526253Z"
    }
   },
   "cell_type": "code",
   "source": [
    "batch_folder = 'batchs2'\n",
    "csv_file = \"mfcc_features.csv\""
   ],
   "id": "b9e0f66e84841ee5",
   "outputs": [],
   "execution_count": 7
  },
  {
   "metadata": {
    "ExecuteTime": {
     "end_time": "2024-11-29T19:16:12.595570Z",
     "start_time": "2024-11-29T19:16:12.586374Z"
    }
   },
   "cell_type": "code",
   "source": [
    "def load_batch(batch_filename):\n",
    "    \"\"\"\n",
    "    Carga un archivo batch específico desde el directorio.\n",
    "\n",
    "    Parámetros:\n",
    "    - batch_filename: El nombre del archivo batch (.pkl)\n",
    "\n",
    "    Devuelve:\n",
    "    - Los datos almacenados en el archivo pickle (en este caso, una lista de vectores MFCC)\n",
    "    \"\"\"\n",
    "    batch_path = os.path.join(batch_folder, batch_filename)\n",
    "    print(batch_path)\n",
    "    if not os.path.exists(batch_path):\n",
    "        print(f\"El archivo {batch_filename} no existe.\")\n",
    "        return None\n",
    "\n",
    "    with open(batch_path, 'rb') as f:\n",
    "        batch_data = pickle.load(f)\n",
    "\n",
    "    return batch_data"
   ],
   "id": "3ec3d95d284fc1e7",
   "outputs": [],
   "execution_count": 8
  },
  {
   "metadata": {
    "ExecuteTime": {
     "end_time": "2024-11-29T23:16:43.911926Z",
     "start_time": "2024-11-29T23:16:43.792824Z"
    }
   },
   "cell_type": "code",
   "source": [
    "batch_filename = 'mfcc_batch_0.pkl'  # Nombre del archivo del batch que quieres cargar\n",
    "batch_data = load_batch(batch_filename)"
   ],
   "id": "309858d273b81c2b",
   "outputs": [
    {
     "name": "stdout",
     "output_type": "stream",
     "text": [
      "batchs/mfcc_batch_0.pkl\n"
     ]
    }
   ],
   "execution_count": 53
  },
  {
   "metadata": {
    "ExecuteTime": {
     "end_time": "2024-11-29T23:17:48.012841Z",
     "start_time": "2024-11-29T23:17:47.944238Z"
    }
   },
   "cell_type": "code",
   "source": [
    "def check_frame_sizes(batch_filename):\n",
    "    batch_data = load_batch(batch_filename)\n",
    "\n",
    "    if batch_data is None:\n",
    "        return\n",
    "\n",
    "    print(f\"Total de canciones en el batch: {len(batch_data)}\")\n",
    "\n",
    "    # para las primeras 10 canciones\n",
    "    for i in range(min(10, len(batch_data))):\n",
    "        song_data = batch_data[i]\n",
    "        print(f\"Tamaño de los frames para la canción {i+1}: {song_data.shape}\")\n",
    "\n",
    "batch_filename = 'mfcc_batch_0.pkl'  # Cambia el nombre del archivo según sea necesario\n",
    "check_frame_sizes(batch_filename)"
   ],
   "id": "b5f6cbe0ae3dba65",
   "outputs": [
    {
     "name": "stdout",
     "output_type": "stream",
     "text": [
      "batchs/mfcc_batch_0.pkl\n",
      "Total de canciones en el batch: 1000\n"
     ]
    },
    {
     "ename": "AttributeError",
     "evalue": "'tuple' object has no attribute 'shape'",
     "output_type": "error",
     "traceback": [
      "\u001B[1;31m---------------------------------------------------------------------------\u001B[0m",
      "\u001B[1;31mAttributeError\u001B[0m                            Traceback (most recent call last)",
      "Cell \u001B[1;32mIn[58], line 15\u001B[0m\n\u001B[0;32m     12\u001B[0m         \u001B[38;5;28mprint\u001B[39m(\u001B[38;5;124mf\u001B[39m\u001B[38;5;124m\"\u001B[39m\u001B[38;5;124mTamaño de los frames para la canción \u001B[39m\u001B[38;5;132;01m{\u001B[39;00mi\u001B[38;5;241m+\u001B[39m\u001B[38;5;241m1\u001B[39m\u001B[38;5;132;01m}\u001B[39;00m\u001B[38;5;124m: \u001B[39m\u001B[38;5;132;01m{\u001B[39;00msong_data\u001B[38;5;241m.\u001B[39mshape\u001B[38;5;132;01m}\u001B[39;00m\u001B[38;5;124m\"\u001B[39m)\n\u001B[0;32m     14\u001B[0m batch_filename \u001B[38;5;241m=\u001B[39m \u001B[38;5;124m'\u001B[39m\u001B[38;5;124mmfcc_batch_0.pkl\u001B[39m\u001B[38;5;124m'\u001B[39m  \u001B[38;5;66;03m# Cambia el nombre del archivo según sea necesario\u001B[39;00m\n\u001B[1;32m---> 15\u001B[0m check_frame_sizes(batch_filename)\n",
      "Cell \u001B[1;32mIn[58], line 12\u001B[0m, in \u001B[0;36mcheck_frame_sizes\u001B[1;34m(batch_filename)\u001B[0m\n\u001B[0;32m     10\u001B[0m \u001B[38;5;28;01mfor\u001B[39;00m i \u001B[38;5;129;01min\u001B[39;00m \u001B[38;5;28mrange\u001B[39m(\u001B[38;5;28mmin\u001B[39m(\u001B[38;5;241m10\u001B[39m, \u001B[38;5;28mlen\u001B[39m(batch_data))):\n\u001B[0;32m     11\u001B[0m     song_data \u001B[38;5;241m=\u001B[39m batch_data[i]\n\u001B[1;32m---> 12\u001B[0m     \u001B[38;5;28mprint\u001B[39m(\u001B[38;5;124mf\u001B[39m\u001B[38;5;124m\"\u001B[39m\u001B[38;5;124mTamaño de los frames para la canción \u001B[39m\u001B[38;5;132;01m{\u001B[39;00mi\u001B[38;5;241m+\u001B[39m\u001B[38;5;241m1\u001B[39m\u001B[38;5;132;01m}\u001B[39;00m\u001B[38;5;124m: \u001B[39m\u001B[38;5;132;01m{\u001B[39;00msong_data\u001B[38;5;241m.\u001B[39mshape\u001B[38;5;132;01m}\u001B[39;00m\u001B[38;5;124m\"\u001B[39m)\n",
      "\u001B[1;31mAttributeError\u001B[0m: 'tuple' object has no attribute 'shape'"
     ]
    }
   ],
   "execution_count": 58
  },
  {
   "metadata": {
    "ExecuteTime": {
     "end_time": "2024-11-29T23:19:12.551421Z",
     "start_time": "2024-11-29T23:19:12.537717Z"
    }
   },
   "cell_type": "code",
   "source": "batch_data[0][1]",
   "id": "ab05468f628277ae",
   "outputs": [
    {
     "data": {
      "text/plain": [
       "array([-1.22713936e+02,  1.17760078e+02, -4.23341751e+01,  3.80610008e+01,\n",
       "       -2.30123215e+01,  2.39203796e+01, -1.19448633e+01,  1.36872883e+01,\n",
       "       -7.29458094e+00,  4.04114103e+00, -4.85660362e+00, -1.66124272e+00,\n",
       "       -6.30609512e+00, -2.19557142e+00,  1.73255253e+00, -4.33520377e-01,\n",
       "        6.39691687e+00, -3.30403686e+00,  1.28376234e+00, -5.92810965e+00,\n",
       "       -3.38252401e+00, -4.19097662e+00,  1.29010189e+00, -4.13347912e+00,\n",
       "        6.23541977e-03, -3.76583219e+00, -7.17109084e-01,  3.40394266e-02,\n",
       "       -8.24547350e-01,  3.55351877e+00,  1.48872995e+00,  3.06146622e+00,\n",
       "        1.25891912e+00,  7.62736368e+00,  2.35857439e+00, -1.43467891e+00,\n",
       "       -3.87765503e+00,  2.44992137e+00,  1.63306797e+00,  2.38041902e+00,\n",
       "        3.25258327e+00,  6.39200151e-01, -7.23923683e-01, -5.35557747e-01,\n",
       "       -1.84491944e+00, -1.21776676e+00,  2.26448464e+00, -1.31004977e+00,\n",
       "       -2.16685629e+00, -3.17785192e+00,  1.32316804e+00, -5.86606145e-01,\n",
       "       -5.93370795e-01, -1.83455777e+00, -2.73760509e+00, -1.20723987e+00,\n",
       "       -2.86111057e-01, -1.77737057e+00, -2.88928390e+00, -5.34381308e-02,\n",
       "        2.54382873e+00,  6.30937481e+00,  3.84551477e+00,  2.62283134e+00,\n",
       "        9.17491615e-01,  1.70875537e+00,  3.29808563e-01,  7.27003336e-01,\n",
       "       -2.11076900e-01, -5.52091002e-01,  6.67731345e-01, -2.04743445e-01,\n",
       "       -1.47050452e+00, -1.83576500e+00, -5.79693317e-01, -1.63777566e+00,\n",
       "       -5.19333303e-01, -1.79882735e-01,  1.58535111e+00,  5.77411234e-01,\n",
       "       -1.37512669e-01, -2.57424831e+00, -2.15590551e-01,  1.87453139e+00,\n",
       "        1.97802472e+00, -5.97490847e-01, -2.67197752e+00, -1.70512092e+00,\n",
       "       -2.46383533e-01,  1.26391363e+00,  5.38416922e-01,  4.50666040e-01,\n",
       "       -6.11975551e-01,  7.07928479e-01,  4.68173116e-01,  7.69029975e-01,\n",
       "       -4.01666254e-01, -1.14040911e+00, -1.36625409e+00, -1.00099909e+00,\n",
       "       -2.46021338e-02,  5.29169440e-01,  1.87957034e-01, -9.94475901e-01,\n",
       "       -7.65760899e-01, -2.95810521e-01,  1.23666501e+00, -5.24899513e-02,\n",
       "       -1.68792212e+00, -2.57145739e+00, -9.13147569e-01, -4.27697212e-01,\n",
       "        1.26422331e-01,  4.26690251e-01,  4.38211322e-01,  6.59151435e-01,\n",
       "        6.82339191e-01,  1.26460660e+00, -2.55933851e-01, -2.83594221e-01,\n",
       "       -5.64306915e-01,  4.91270989e-01,  4.26488891e-02,  1.72570363e-01,\n",
       "       -4.27020490e-01, -1.01483002e-01,  8.33335593e-02,  8.89041185e-01],\n",
       "      dtype=float32)"
      ]
     },
     "execution_count": 68,
     "metadata": {},
     "output_type": "execute_result"
    }
   ],
   "execution_count": 68
  },
  {
   "metadata": {
    "ExecuteTime": {
     "end_time": "2024-11-29T19:36:11.745739Z",
     "start_time": "2024-11-29T19:35:48.972025Z"
    }
   },
   "cell_type": "code",
   "source": [
    "from scipy.signal import resample\n",
    "import numpy as np\n",
    "\n",
    "# Función para interpolar los vectores MFCC para que tengan el tamaño deseado\n",
    "def interpolate_song(song_data, target_size=2582):\n",
    "    current_size = song_data.shape[1]\n",
    "\n",
    "    if current_size != target_size:\n",
    "        new_song_data = np.zeros((song_data.shape[0], target_size))\n",
    "        for i in range(song_data.shape[0]):  # Para cada coeficiente MFCC\n",
    "            new_song_data[i] = resample(song_data[i], target_size)\n",
    "        return new_song_data\n",
    "    return song_data\n",
    "\n",
    "# Función para procesar todo el batch con interpolación\n",
    "def process_batch_for_analysis_with_interpolation(batch_filename, target_size=2582):\n",
    "    batch_data = load_batch(batch_filename)\n",
    "\n",
    "    if batch_data is None:\n",
    "        return\n",
    "\n",
    "    # Aplicar interpolación a cada canción en el batch\n",
    "    processed_batch = []\n",
    "    for song_data in batch_data:\n",
    "        processed_song = interpolate_song(song_data, target_size)\n",
    "        processed_batch.append(processed_song)\n",
    "\n",
    "    return np.array(processed_batch)\n",
    "\n",
    "def analyze_batch_with_interpolation(batch_filename):\n",
    "    processed_batch = process_batch_for_analysis_with_interpolation(batch_filename)\n",
    "\n",
    "    if processed_batch is None:\n",
    "        return\n",
    "\n",
    "    print(f\"Tamaño del batch procesado: {processed_batch.shape}\")\n",
    "\n",
    "    # 3. Promediar sobre los frames (2582)\n",
    "    batch_data_avg = np.mean(processed_batch, axis=2)\n",
    "    print(f\"Tamaño de los datos promediados: {batch_data_avg.shape}\")\n",
    "\n",
    "    # Estadísticas descriptivas\n",
    "    mean_mfccs = np.mean(batch_data_avg, axis=0)\n",
    "    std_mfccs = np.std(batch_data_avg, axis=0)\n",
    "\n",
    "    print(\"Media de cada coeficiente MFCC:\")\n",
    "    print(mean_mfccs[:5])  # Muestra los primeros 5 coeficientes\n",
    "\n",
    "    print(\"Desviación estándar de cada coeficiente MFCC:\")\n",
    "    print(std_mfccs[:5])  # Muestra los primeros 5 coeficientes\n",
    "\n",
    "# Ejemplo de uso\n",
    "batch_filename = 'mfcc_batch_0.pkl'  # Cambia el nombre del archivo según sea necesario\n",
    "analyze_batch_with_interpolation(batch_filename)\n"
   ],
   "id": "dea1d78d15bff862",
   "outputs": [
    {
     "name": "stdout",
     "output_type": "stream",
     "text": [
      "batchs\\mfcc_batch_0.pkl\n",
      "Tamaño del batch procesado: (1000, 128, 2582)\n",
      "Tamaño de los datos promediados: (1000, 128)\n",
      "Media de cada coeficiente MFCC:\n",
      "[-178.51670053  157.1441292   -29.06091298   34.02628143    0.61231745]\n",
      "Desviación estándar de cada coeficiente MFCC:\n",
      "[95.51986851 32.18492813 30.07797272 17.61256156 14.53879725]\n"
     ]
    }
   ],
   "execution_count": 40
  },
  {
   "metadata": {
    "ExecuteTime": {
     "end_time": "2024-11-29T19:51:27.087728Z",
     "start_time": "2024-11-29T19:51:26.822784Z"
    }
   },
   "cell_type": "code",
   "source": [
    "from busquedas.KNN_HighD import *\n",
    "from busquedas.KNN_RTree import *\n",
    "from busquedas.KNN_Sequential import *"
   ],
   "id": "7921b5f43d4430e7",
   "outputs": [],
   "execution_count": 48
  },
  {
   "metadata": {
    "ExecuteTime": {
     "end_time": "2024-11-29T23:26:42.374696Z",
     "start_time": "2024-11-29T23:26:41.844768Z"
    }
   },
   "cell_type": "code",
   "source": [
    "batch_folder = 'batchs/'\n",
    "\n",
    "# Esta función cargará todos los archivos .pkl en la carpeta y devolverá una lista de tuplas (track_id, mfcc_vector)\n",
    "def load_collection_from_pkl(batch_folder):\n",
    "    collection = []\n",
    "    for filename in os.listdir(batch_folder):\n",
    "        if filename.endswith('.pkl'):\n",
    "            file_path = os.path.join(batch_folder, filename)\n",
    "            with open(file_path, 'rb') as f:\n",
    "                batch_data = pickle.load(f)  # Cargar los datos del archivo .pkl\n",
    "                for track_id, mfcc in batch_data:\n",
    "                    collection.append((track_id, mfcc))\n",
    "    return collection\n",
    "\n",
    "# Cargar toda la colección desde los archivos .pkl\n",
    "my_collection = load_collection_from_pkl(batch_folder)\n",
    "print(f\"Total de elementos en my_collection: {len(my_collection)}\")"
   ],
   "id": "d478b7d031533387",
   "outputs": [
    {
     "name": "stdout",
     "output_type": "stream",
     "text": [
      "Total de elementos en my_collection: 24980\n"
     ]
    }
   ],
   "execution_count": 69
  },
  {
   "metadata": {
    "ExecuteTime": {
     "end_time": "2024-11-29T23:27:27.442131Z",
     "start_time": "2024-11-29T23:27:27.429047Z"
    }
   },
   "cell_type": "code",
   "source": "my_collection[10000]",
   "id": "16f114b17a52b84d",
   "outputs": [
    {
     "data": {
      "text/plain": [
       "('114072',\n",
       " array([-4.09685730e+02,  1.51876511e+02,  4.41475754e+01,  1.44969177e+01,\n",
       "        -2.14168491e+01, -9.34521675e+00,  6.53687596e-01,  1.67928333e+01,\n",
       "         1.64408169e+01,  1.51415110e+01,  1.49820125e+00, -4.74364901e+00,\n",
       "        -6.58810043e+00, -3.68945026e+00,  6.91709742e-02,  3.73557448e+00,\n",
       "         2.40533280e+00, -2.53010631e+00, -4.75862932e+00, -3.19729853e+00,\n",
       "         1.67732871e+00,  3.89125562e+00,  4.02020979e+00, -1.82150871e-01,\n",
       "        -4.03012228e+00, -4.59247112e+00,  1.32035315e+00,  6.39171696e+00,\n",
       "         7.66038847e+00,  5.05359411e+00,  1.18540514e+00, -2.60636401e+00,\n",
       "        -3.54237103e+00, -2.24659729e+00,  1.13600218e+00,  4.36398840e+00,\n",
       "         3.27186465e+00, -9.46817458e-01, -5.54712296e+00, -7.37567949e+00,\n",
       "        -3.36025214e+00,  2.54028463e+00,  6.15330935e+00,  6.63150263e+00,\n",
       "         2.75476480e+00, -2.05115175e+00, -4.66844511e+00, -5.09661674e+00,\n",
       "        -3.75743151e+00, -2.17037916e+00, -1.69065166e+00, -2.32793880e+00,\n",
       "        -1.60430622e+00,  2.18628272e-01,  1.17714965e+00,  2.57389832e+00,\n",
       "         2.94423866e+00,  6.68345392e-01, -2.09346175e+00, -2.76784945e+00,\n",
       "        -2.34375286e+00, -3.40783685e-01,  2.66159272e+00,  3.44607162e+00,\n",
       "         1.14829350e+00, -1.55143607e+00, -2.64178801e+00, -2.47195172e+00,\n",
       "        -1.86582756e+00, -1.27909899e-01,  1.69661808e+00,  2.23471189e+00,\n",
       "         1.31909287e+00, -2.23917261e-01, -9.24342632e-01, -7.73840070e-01,\n",
       "         1.43101618e-01,  5.20011306e-01,  1.80689603e-01,  1.13479026e-01,\n",
       "        -4.35730159e-01, -1.14860880e+00, -1.15667200e+00, -7.42595017e-01,\n",
       "         1.98384851e-01,  3.95687193e-01, -1.49222270e-01, -3.17260265e-01,\n",
       "        -1.81268021e-01, -1.86408177e-01,  1.90614223e-01,  1.18807983e+00,\n",
       "         1.34698594e+00,  1.07863390e+00,  9.05555606e-01,  2.51597762e-01,\n",
       "        -4.35712457e-01, -7.29387403e-01, -7.36103415e-01, -5.97296417e-01,\n",
       "        -4.32445616e-01, -7.88967311e-02,  3.36045057e-01, -2.93638825e-01,\n",
       "        -8.77758324e-01, -7.68777370e-01, -3.52781683e-01, -7.80391917e-02,\n",
       "        -1.14684775e-02,  1.07140578e-01,  8.99494365e-02, -1.35133415e-01,\n",
       "        -5.03617227e-01, -5.04191875e-01, -2.97415584e-01, -1.21205434e-01,\n",
       "         1.12469234e-01,  1.45939857e-01, -2.76281804e-01, -2.36378133e-01,\n",
       "         1.81509815e-02,  3.56688499e-01,  3.22928011e-01, -3.85179161e-03,\n",
       "         1.07413433e-01, -1.95464045e-01, -7.83151448e-01, -6.38655365e-01],\n",
       "       dtype=float32))"
      ]
     },
     "execution_count": 74,
     "metadata": {},
     "output_type": "execute_result"
    }
   ],
   "execution_count": 74
  },
  {
   "metadata": {
    "ExecuteTime": {
     "end_time": "2024-11-29T23:28:32.571692Z",
     "start_time": "2024-11-29T23:28:32.361401Z"
    }
   },
   "cell_type": "code",
   "source": [
    "# Suponiendo que tienes un vector query_mfcc para buscar\n",
    "query_mfcc = np.random.rand(128, 2582)  # Ejemplo, reemplazar con un MFCC real\n",
    "query_mfcc = np.mean(query_mfcc, axis=1)  # Promedio de los coeficientes MFCC para reducir dimensionalidad\n",
    "\n",
    "# Crear una instancia de la clase KNN\n",
    "knn = KNN_HighD(num_bits=64, collection=my_collection)  # Usar la colección procesada con interpolación\n",
    "\n",
    "# Realizar la consulta\n",
    "resultados = knn.knn_query(query_mfcc, k=5)  # Consultar los 5 más similares\n",
    "print(resultados)\n"
   ],
   "id": "b9f672c0f0383a7a",
   "outputs": [
    {
     "name": "stdout",
     "output_type": "stream",
     "text": [
      "[('087638', 110.88671), ('116825', 129.2381), ('102133', 140.73315), ('009505', 154.19804), ('129701', 237.41994)]\n"
     ]
    }
   ],
   "execution_count": 75
  }
 ],
 "metadata": {
  "kernelspec": {
   "display_name": "Python 3",
   "language": "python",
   "name": "python3"
  },
  "language_info": {
   "codemirror_mode": {
    "name": "ipython",
    "version": 2
   },
   "file_extension": ".py",
   "mimetype": "text/x-python",
   "name": "python",
   "nbconvert_exporter": "python",
   "pygments_lexer": "ipython2",
   "version": "2.7.6"
  }
 },
 "nbformat": 4,
 "nbformat_minor": 5
}
