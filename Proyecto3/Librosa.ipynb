{
 "cells": [
  {
   "cell_type": "code",
   "execution_count": 32,
   "metadata": {},
   "outputs": [],
   "source": [
    "import librosa\n",
    "import librosa.display\n",
    "import numpy as np\n",
    "import matplotlib.pyplot as plt\n"
   ]
  },
  {
   "cell_type": "markdown",
   "metadata": {},
   "source": [
    "## Cargar el audio "
   ]
  },
  {
   "cell_type": "code",
   "execution_count": 33,
   "metadata": {},
   "outputs": [],
   "source": [
    "audio_path = 'Menu.mp3'"
   ]
  },
  {
   "cell_type": "markdown",
   "metadata": {},
   "source": [
    "## Representación digital\n",
    "\n",
    "En este paso se convierte el archivo en una representación digital que se puede analizar. La fragmentación ocurre después, cuando realizas análisis como el cálculo de RMSE, MFCC, etc."
   ]
  },
  {
   "cell_type": "code",
   "execution_count": 34,
   "metadata": {},
   "outputs": [
    {
     "name": "stdout",
     "output_type": "stream",
     "text": [
      "Signal shape: (1411200,), Sample Rate: 44100\n"
     ]
    }
   ],
   "source": [
    "signal, sr = librosa.load(audio_path, sr=None)\n",
    "# sr = none siginifica que no se va a cambiar la frecuencia de muestreo\n",
    "# si sr = 22050, se va a cambiar la frecuencia de muestreo a 22050 Hz\n",
    "print(f\"Signal shape: {signal.shape}, Sample Rate: {sr}\")"
   ]
  },
  {
   "cell_type": "markdown",
   "metadata": {},
   "source": [
    "## Root Mean Square Energy (RMSE)\n",
    "Mide la intensidad (o energía) de la señal en cada fragmento.\n",
    "\n",
    "¿Por qué calcular RMSE?\n",
    "    - Te ayuda a analizar dónde está la energía de la canción. Por ejemplo, los momentos con mayor RMSE suelen corresponder a golpes de batería o transiciones importantes.\n",
    "    - Es útil para entender la estructura dinámica de la canción (partes suaves vs. intensas)."
   ]
  },
  {
   "cell_type": "code",
   "execution_count": 35,
   "metadata": {},
   "outputs": [
    {
     "name": "stdout",
     "output_type": "stream",
     "text": [
      "RMSE: [[0.12341513 0.15349023 0.17858239 ... 0.         0.         0.        ]]\n"
     ]
    }
   ],
   "source": [
    "rmse = librosa.feature.rms(y=signal)\n",
    "print(f'RMSE: {rmse}')"
   ]
  },
  {
   "cell_type": "markdown",
   "metadata": {},
   "source": [
    "## Zero-Crossing Rate\n",
    "\n",
    "indica el número de veces que una señal cruza el eje horizontal, es decir, el número de veces que la amplitud alcanza 0."
   ]
  },
  {
   "cell_type": "code",
   "execution_count": 36,
   "metadata": {},
   "outputs": [
    {
     "name": "stdout",
     "output_type": "stream",
     "text": [
      "Zero crossing: 236501\n"
     ]
    }
   ],
   "source": [
    "#Esto devolverá el número total de veces que la amplitud cruza el eje horizontal.\n",
    "Zero_crossing = sum(librosa.zero_crossings(signal, pad=False))\n",
    "print(f'Zero crossing: {Zero_crossing}')\n"
   ]
  },
  {
   "cell_type": "markdown",
   "metadata": {},
   "source": [
    "## Tempo \n",
    "\n",
    "El tempo es la velocidad o ritmo de una pieza musical y se mide en BPM (beats per minute). Es una característica importante para clasificar canciones por género, por ejemplo, el tempo de una canción de rock suele ser más rápido que el de una balada."
   ]
  },
  {
   "cell_type": "code",
   "execution_count": 37,
   "metadata": {},
   "outputs": [
    {
     "name": "stderr",
     "output_type": "stream",
     "text": [
      "/tmp/ipykernel_775/2445573866.py:1: FutureWarning: librosa.beat.tempo\n",
      "\tThis function was moved to 'librosa.feature.rhythm.tempo' in librosa version 0.10.0.\n",
      "\tThis alias will be removed in librosa version 1.0.\n",
      "  tempo = librosa.beat.tempo(y=signal, sr=sr)\n"
     ]
    },
    {
     "name": "stdout",
     "output_type": "stream",
     "text": [
      "Tempo: [120.18531977]\n"
     ]
    }
   ],
   "source": [
    "tempo = librosa.beat.tempo(y=signal, sr=sr)\n",
    "print(f'Tempo: {tempo}')"
   ]
  },
  {
   "cell_type": "markdown",
   "metadata": {},
   "source": [
    "# MFCC\n",
    "- Fragmenta el audio \n",
    "    - Divide la señal en fragmentos (ventanas de tiempo), generalmente de 20-40 ms, porque en este intervalo el audio se considera estacionario.\n",
    "    - Esto se basa en la frecuencia de muestreo del audio. Por ejemplo, si la frecuencia de muestreo es de 22050 Hz, un fragmento de 20 ms contendrá 441 muestras.\n",
    "- Calculo de las caracteristicas \n",
    "    - por cada fragmento , se genera un vector de características que representa las propiedades de la señal en ese fragmento.\n",
    "    - Cada vector de características se calcula utilizando la transformada de Fourier de tiempo corto (STFT) y luego se aplica la transformada de coseno discreta (DCT) para obtener los coeficientes MFCC."
   ]
  },
  {
   "cell_type": "code",
   "execution_count": 38,
   "metadata": {},
   "outputs": [
    {
     "name": "stdout",
     "output_type": "stream",
     "text": [
      "MFCCs: (13, 2757)\n"
     ]
    }
   ],
   "source": [
    "mfccs = librosa.feature.mfcc(y=signal, sr=sr , n_mfcc=13)\n",
    "# n_mfcc = 13, significa que se van a extraer 13 coeficientes MFCC\n",
    "# por defecto n_mfcc = 20\n",
    "print(f'MFCCs: {mfccs.shape}')"
   ]
  },
  {
   "cell_type": "markdown",
   "metadata": {},
   "source": [
    "### significado de los resultados (shape)\n",
    "- (n_mfcc, t) donde n_mfcc es el número de coeficientes MFCC y t es el número de fragmentos.\n",
    "    - 13 coeficientes MFCC es un valor común, pero puedes elegir cualquier valor según tus necesidades.\n",
    "    - los coeficientes MFCC forman las dimensiones del vector característico para un fragmento del audio.\n",
    "    - t depende de la duración del audio y del tamaño de la ventana. Por ejemplo, si el audio dura 30 segundos y la ventana es de 20 ms, t será 1500 (30*1000/20).\n"
   ]
  },
  {
   "cell_type": "code",
   "execution_count": null,
   "metadata": {},
   "outputs": [
    {
     "name": "stdout",
     "output_type": "stream",
     "text": [
      "[-184.21811 -188.84097 -298.82767 ... -602.1457  -602.1457  -602.1457 ]\n",
      "[105.71151   80.541756 -10.618538 ...   0.         0.         0.      ]\n",
      "[16.828331 25.798645 20.893356 ...  0.        0.        0.      ]\n",
      "[34.55933  32.73453  30.238724 ...  0.        0.        0.      ]\n",
      "[ 4.0832405  3.6186526 -6.8369436 ...  0.         0.         0.       ]\n",
      "[28.424076 29.496525 19.031963 ...  0.        0.        0.      ]\n",
      "[ 4.545714   2.8280363 -5.0747976 ...  0.         0.         0.       ]\n",
      "[20.061417 20.895676 15.281046 ...  0.        0.        0.      ]\n",
      "[ -8.686144 -11.17137  -19.600624 ...   0.         0.         0.      ]\n",
      "[ -8.1194725  -9.662573  -24.355122  ...   0.          0.\n",
      "   0.       ]\n",
      "[-39.448494 -43.68834  -60.609154 ...   0.         0.         0.      ]\n",
      "[-32.705643 -36.80596  -53.114727 ...   0.         0.         0.      ]\n",
      "[-36.147396 -40.43567  -50.355484 ...   0.         0.         0.      ]\n"
     ]
    }
   ],
   "source": [
    "# array de 13 x 1292 = 16796\n",
    "    # en total hay 16796 coeficientes MFCCs o características extraídas\n",
    "    # el total de dimenciones de las características extraídas es 16796\n",
    "    \n",
    "for i in mfccs:\n",
    "    print(i)"
   ]
  },
  {
   "cell_type": "markdown",
   "metadata": {},
   "source": [
    "### Spectal Features \n",
    "- **Spectral Centroid**: indica en qué frecuencia se centra la masa de energía de la señal.\n",
    "- Spectral Rolloff: es la frecuencia por debajo de la cual se encuentra el 85% de la energía de la señal.\n",
    "- **Spectral Bandwidth**: es el ancho de banda de la señal.\n",
    "- **Spectral Contrast**: mide la diferencia de amplitud entre picos y valles en el espectro de frecuencia.\n",
    "- **Spectral Flatness**: mide la uniformidad de la distribución espectral.\n",
    "- **Spectral Rolloff**: es la frecuencia por debajo de la cual se encuentra el 85% de la energía de la señal.\n",
    "- Chroma Frequencies: mide la presencia de diferentes notas musicales en la señal.\n",
    "- Tonnetz: mide la relación entre las notas musicales en la señal.\n"
   ]
  },
  {
   "cell_type": "code",
   "execution_count": 41,
   "metadata": {},
   "outputs": [
    {
     "name": "stdout",
     "output_type": "stream",
     "text": [
      "Spectral Centroids: [2993.40307513 3146.53471881 3416.80047901 ...    0.            0.\n",
      "    0.        ]\n",
      "Spectral Bandwidth: [4200.05518335 4320.00072743 4521.97892848 ...    0.            0.\n",
      "    0.        ]\n",
      "Spectral Contrast: [ 0.80480367  0.9205368  12.15060782 ... 11.96340468 11.96340468\n",
      " 11.96340468]\n",
      "Spectral Flatness: [9.3464809e-04 2.1910659e-04 7.5828007e-06 ... 1.0000007e+00 1.0000007e+00\n",
      " 1.0000007e+00]\n",
      "Spectral Rolloff: [6675.29296875 7041.35742188 7472.02148438 ...    0.            0.\n",
      "    0.        ]\n"
     ]
    }
   ],
   "source": [
    "spectral_centroids = librosa.feature.spectral_centroid(y=signal, sr=sr)[0]\n",
    "spectral_bandwidth=librosa.feature.spectral_bandwidth(y=signal, sr=sr)[0]\n",
    "spectral_contrast=librosa.feature.spectral_contrast(y=signal, sr=sr)[0]\n",
    "spectral_flatness=librosa.feature.spectral_flatness(y=signal)[0]\n",
    "spectral_rolloff=librosa.feature.spectral_rolloff(y=signal, sr=sr)[0]\n",
    "print (f'Spectral Centroids: {spectral_centroids}')\n",
    "print (f'Spectral Bandwidth: {spectral_bandwidth}')\n",
    "print (f'Spectral Contrast: {spectral_contrast}')\n",
    "print (f'Spectral Flatness: {spectral_flatness}')\n",
    "print (f'Spectral Rolloff: {spectral_rolloff}')\n"
   ]
  }
 ],
 "metadata": {
  "kernelspec": {
   "display_name": "env",
   "language": "python",
   "name": "python3"
  },
  "language_info": {
   "codemirror_mode": {
    "name": "ipython",
    "version": 3
   },
   "file_extension": ".py",
   "mimetype": "text/x-python",
   "name": "python",
   "nbconvert_exporter": "python",
   "pygments_lexer": "ipython3",
   "version": "3.12.3"
  }
 },
 "nbformat": 4,
 "nbformat_minor": 2
}
