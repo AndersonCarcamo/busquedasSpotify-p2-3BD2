{
 "cells": [
  {
   "cell_type": "code",
   "execution_count": 1,
   "metadata": {
    "ExecuteTime": {
     "end_time": "2024-11-28T22:48:49.716018Z",
     "start_time": "2024-11-28T22:48:40.025339Z"
    }
   },
   "outputs": [
    {
     "name": "stderr",
     "output_type": "stream",
     "text": [
      "[nltk_data] Downloading package punkt to\n",
      "[nltk_data]     C:\\Users\\Anderson\\AppData\\Roaming\\nltk_data...\n",
      "[nltk_data]   Package punkt is already up-to-date!\n"
     ]
    }
   ],
   "source": [
    "from spimi import SPIMI\n",
    "from busquedas_cosine import CosineSimilaritySearch\n",
    "import pandas as pd\n",
    "\n",
    "# testeo\n",
    "path = './dataset/'\n",
    "data_path = path + 'spotify_songs.csv'\n",
    "\n",
    "data = pd.read_csv(data_path)\n",
    "\n",
    "# particion de data para la experimentacion\n",
    "data1000 = data.head(1000)\n",
    "data5000 = data.head(5000)\n",
    "data10000 = data.head(10000)\n",
    "data18000 = data\n",
    "\n",
    "# creacion de indices para la informacion de la data\n",
    "doc_metadata_map_1000 = data1000.to_dict(\"index\")\n",
    "doc_metadata_map_5000 = data5000.to_dict(\"index\")\n",
    "doc_metadata_map_10000 = data10000.to_dict(\"index\")\n",
    "doc_metadata_map_18000 = data18000.to_dict(\"index\")"
   ]
  },
  {
   "cell_type": "code",
   "execution_count": 11,
   "metadata": {
    "ExecuteTime": {
     "end_time": "2024-11-28T22:51:14.382514Z",
     "start_time": "2024-11-28T22:51:14.370107Z"
    }
   },
   "outputs": [
    {
     "name": "stdout",
     "output_type": "stream",
     "text": [
      "Documento: 64, Similitud: 0.2278, Título: Rattle Your Cage, Artista: Skrizzly Adams, Álbum: Young Man, Fecha de lanzamiento: 2019-11-15\n",
      "Documento: 247, Similitud: 0.1446, Título: Calabria - Firebeatz Remix, Artista: Rune RK, Álbum: Calabria (Firebeatz Remix), Fecha de lanzamiento: 2014-10-27\n",
      "Documento: 479, Similitud: 0.0984, Título: Just Us (feat. SZA), Artista: DJ Khaled, Álbum: Father Of Asahd, Fecha de lanzamiento: 2019-05-17\n",
      "Documento: 892, Similitud: 0.0984, Título: Try, Artista: 6o, Álbum: Try, Fecha de lanzamiento: 2019-12-27\n",
      "Documento: 403, Similitud: 0.0984, Título: Conquista, Artista: Jerau, Álbum: La Conquista, Fecha de lanzamiento: 2012\n",
      "\n",
      "Tiempo de ejecución de la consulta: 0.2587 segundos\n",
      "Documento: 64, Similitud: 0.2278, Título: Rattle Your Cage, Artista: Skrizzly Adams, Álbum: Young Man, Fecha de lanzamiento: 2019-11-15\n",
      "Documento: 247, Similitud: 0.1446, Título: Calabria - Firebeatz Remix, Artista: Rune RK, Álbum: Calabria (Firebeatz Remix), Fecha de lanzamiento: 2014-10-27\n",
      "Documento: 479, Similitud: 0.0984, Título: Just Us (feat. SZA), Artista: DJ Khaled, Álbum: Father Of Asahd, Fecha de lanzamiento: 2019-05-17\n",
      "Documento: 892, Similitud: 0.0984, Título: Try, Artista: 6o, Álbum: Try, Fecha de lanzamiento: 2019-12-27\n",
      "Documento: 403, Similitud: 0.0984, Título: Conquista, Artista: Jerau, Álbum: La Conquista, Fecha de lanzamiento: 2012\n",
      "\n",
      "Tiempo de ejecución de la consulta: 0.0832 segundos\n",
      "Documento: 64, Similitud: 0.2278, Título: Rattle Your Cage, Artista: Skrizzly Adams, Álbum: Young Man, Fecha de lanzamiento: 2019-11-15\n",
      "Documento: 247, Similitud: 0.1446, Título: Calabria - Firebeatz Remix, Artista: Rune RK, Álbum: Calabria (Firebeatz Remix), Fecha de lanzamiento: 2014-10-27\n",
      "Documento: 479, Similitud: 0.0984, Título: Just Us (feat. SZA), Artista: DJ Khaled, Álbum: Father Of Asahd, Fecha de lanzamiento: 2019-05-17\n",
      "Documento: 892, Similitud: 0.0984, Título: Try, Artista: 6o, Álbum: Try, Fecha de lanzamiento: 2019-12-27\n",
      "Documento: 403, Similitud: 0.0984, Título: Conquista, Artista: Jerau, Álbum: La Conquista, Fecha de lanzamiento: 2012\n",
      "\n",
      "Tiempo de ejecución de la consulta: 0.0611 segundos\n",
      "Documento: 64, Similitud: 0.2278, Título: Rattle Your Cage, Artista: Skrizzly Adams, Álbum: Young Man, Fecha de lanzamiento: 2019-11-15\n",
      "Documento: 247, Similitud: 0.1446, Título: Calabria - Firebeatz Remix, Artista: Rune RK, Álbum: Calabria (Firebeatz Remix), Fecha de lanzamiento: 2014-10-27\n",
      "Documento: 479, Similitud: 0.0984, Título: Just Us (feat. SZA), Artista: DJ Khaled, Álbum: Father Of Asahd, Fecha de lanzamiento: 2019-05-17\n",
      "Documento: 892, Similitud: 0.0984, Título: Try, Artista: 6o, Álbum: Try, Fecha de lanzamiento: 2019-12-27\n",
      "Documento: 403, Similitud: 0.0984, Título: Conquista, Artista: Jerau, Álbum: La Conquista, Fecha de lanzamiento: 2012\n",
      "\n",
      "Tiempo de ejecución de la consulta: 0.2461 segundos\n",
      "Documento: 64, Similitud: 0.2278, Título: Rattle Your Cage, Artista: Skrizzly Adams, Álbum: Young Man, Fecha de lanzamiento: 2019-11-15\n",
      "Documento: 247, Similitud: 0.1446, Título: Calabria - Firebeatz Remix, Artista: Rune RK, Álbum: Calabria (Firebeatz Remix), Fecha de lanzamiento: 2014-10-27\n",
      "Documento: 479, Similitud: 0.0984, Título: Just Us (feat. SZA), Artista: DJ Khaled, Álbum: Father Of Asahd, Fecha de lanzamiento: 2019-05-17\n",
      "Documento: 892, Similitud: 0.0984, Título: Try, Artista: 6o, Álbum: Try, Fecha de lanzamiento: 2019-12-27\n",
      "Documento: 403, Similitud: 0.0984, Título: Conquista, Artista: Jerau, Álbum: La Conquista, Fecha de lanzamiento: 2012\n",
      "\n",
      "Tiempo de ejecución de la consulta: 0.2262 segundos\n",
      "Promedio para 1k: 0.17505927085876466 segundos\n"
     ]
    }
   ],
   "source": [
    "block_folder = './blocks1000/'\n",
    "num_docs = 1000\n",
    "\n",
    "search_engine = CosineSimilaritySearch(block_folder, num_docs, doc_metadata_map_1000,lang='en')\n",
    "prom = 0\n",
    "for i in range(5):\n",
    "    query = \"yea you just cant walk away\"\n",
    "    execution_time = search_engine.search_top_k(query, topk=5)\n",
    "    prom += execution_time\n",
    "\n",
    "print(f'Promedio para 1k: {prom/5} segundos')"
   ]
  },
  {
   "cell_type": "code",
   "execution_count": 10,
   "metadata": {},
   "outputs": [
    {
     "name": "stdout",
     "output_type": "stream",
     "text": [
      "Documento: 4008, Similitud: 0.1854, Título: 808, Artista: Blaque, Álbum: Blaque, Fecha de lanzamiento: 1999-05-28\n",
      "Documento: 64, Similitud: 0.1404, Título: Rattle Your Cage, Artista: Skrizzly Adams, Álbum: Young Man, Fecha de lanzamiento: 2019-11-15\n",
      "Documento: 4889, Similitud: 0.1380, Título: I Got Dat Feelin' - Live, Artista: DJ Kool, Álbum: Let Me Clear My Throat, Fecha de lanzamiento: 1996-01-01\n",
      "Documento: 1900, Similitud: 0.0992, Título: Calabria - Firebeatz Remix, Artista: Rune RK, Álbum: Calabria (Firebeatz Remix), Fecha de lanzamiento: 2014-10-27\n",
      "Documento: 4535, Similitud: 0.0992, Título: Truck Drivin' Man - Demo Version, Artista: Lynyrd Skynyrd, Álbum: The Complete Collection, Fecha de lanzamiento: 2008-01-01\n",
      "\n",
      "Tiempo de ejecución de la consulta: 0.4421 segundos\n",
      "Documento: 4008, Similitud: 0.1854, Título: 808, Artista: Blaque, Álbum: Blaque, Fecha de lanzamiento: 1999-05-28\n",
      "Documento: 64, Similitud: 0.1404, Título: Rattle Your Cage, Artista: Skrizzly Adams, Álbum: Young Man, Fecha de lanzamiento: 2019-11-15\n",
      "Documento: 4889, Similitud: 0.1380, Título: I Got Dat Feelin' - Live, Artista: DJ Kool, Álbum: Let Me Clear My Throat, Fecha de lanzamiento: 1996-01-01\n",
      "Documento: 1900, Similitud: 0.0992, Título: Calabria - Firebeatz Remix, Artista: Rune RK, Álbum: Calabria (Firebeatz Remix), Fecha de lanzamiento: 2014-10-27\n",
      "Documento: 4535, Similitud: 0.0992, Título: Truck Drivin' Man - Demo Version, Artista: Lynyrd Skynyrd, Álbum: The Complete Collection, Fecha de lanzamiento: 2008-01-01\n",
      "\n",
      "Tiempo de ejecución de la consulta: 0.1525 segundos\n",
      "Documento: 4008, Similitud: 0.1854, Título: 808, Artista: Blaque, Álbum: Blaque, Fecha de lanzamiento: 1999-05-28\n",
      "Documento: 64, Similitud: 0.1404, Título: Rattle Your Cage, Artista: Skrizzly Adams, Álbum: Young Man, Fecha de lanzamiento: 2019-11-15\n",
      "Documento: 4889, Similitud: 0.1380, Título: I Got Dat Feelin' - Live, Artista: DJ Kool, Álbum: Let Me Clear My Throat, Fecha de lanzamiento: 1996-01-01\n",
      "Documento: 1900, Similitud: 0.0992, Título: Calabria - Firebeatz Remix, Artista: Rune RK, Álbum: Calabria (Firebeatz Remix), Fecha de lanzamiento: 2014-10-27\n",
      "Documento: 4535, Similitud: 0.0992, Título: Truck Drivin' Man - Demo Version, Artista: Lynyrd Skynyrd, Álbum: The Complete Collection, Fecha de lanzamiento: 2008-01-01\n",
      "\n",
      "Tiempo de ejecución de la consulta: 0.3803 segundos\n",
      "Documento: 4008, Similitud: 0.1854, Título: 808, Artista: Blaque, Álbum: Blaque, Fecha de lanzamiento: 1999-05-28\n",
      "Documento: 64, Similitud: 0.1404, Título: Rattle Your Cage, Artista: Skrizzly Adams, Álbum: Young Man, Fecha de lanzamiento: 2019-11-15\n",
      "Documento: 4889, Similitud: 0.1380, Título: I Got Dat Feelin' - Live, Artista: DJ Kool, Álbum: Let Me Clear My Throat, Fecha de lanzamiento: 1996-01-01\n",
      "Documento: 1900, Similitud: 0.0992, Título: Calabria - Firebeatz Remix, Artista: Rune RK, Álbum: Calabria (Firebeatz Remix), Fecha de lanzamiento: 2014-10-27\n",
      "Documento: 4535, Similitud: 0.0992, Título: Truck Drivin' Man - Demo Version, Artista: Lynyrd Skynyrd, Álbum: The Complete Collection, Fecha de lanzamiento: 2008-01-01\n",
      "\n",
      "Tiempo de ejecución de la consulta: 0.2060 segundos\n",
      "Documento: 4008, Similitud: 0.1854, Título: 808, Artista: Blaque, Álbum: Blaque, Fecha de lanzamiento: 1999-05-28\n",
      "Documento: 64, Similitud: 0.1404, Título: Rattle Your Cage, Artista: Skrizzly Adams, Álbum: Young Man, Fecha de lanzamiento: 2019-11-15\n",
      "Documento: 4889, Similitud: 0.1380, Título: I Got Dat Feelin' - Live, Artista: DJ Kool, Álbum: Let Me Clear My Throat, Fecha de lanzamiento: 1996-01-01\n",
      "Documento: 1900, Similitud: 0.0992, Título: Calabria - Firebeatz Remix, Artista: Rune RK, Álbum: Calabria (Firebeatz Remix), Fecha de lanzamiento: 2014-10-27\n",
      "Documento: 4535, Similitud: 0.0992, Título: Truck Drivin' Man - Demo Version, Artista: Lynyrd Skynyrd, Álbum: The Complete Collection, Fecha de lanzamiento: 2008-01-01\n",
      "\n",
      "Tiempo de ejecución de la consulta: 0.4238 segundos\n",
      "Promedio para 1k: 0.320940637588501 segundos\n"
     ]
    }
   ],
   "source": [
    "block_folder = './blocks5000/'\n",
    "num_docs = 1000\n",
    "\n",
    "search_engine = CosineSimilaritySearch(block_folder, num_docs, doc_metadata_map_5000,lang='en')\n",
    "\n",
    "prom = 0\n",
    "for i in range(5):\n",
    "    query = \"yea you just cant walk away\"\n",
    "    execution_time = search_engine.search_top_k(query, topk=5)\n",
    "    prom += execution_time\n",
    "\n",
    "print(f'Promedio para 1k: {prom/5} segundos')"
   ]
  },
  {
   "cell_type": "code",
   "execution_count": 9,
   "metadata": {},
   "outputs": [
    {
     "name": "stdout",
     "output_type": "stream",
     "text": [
      "Documento: 7131, Similitud: 0.0889, Título: Walk This Way, Artista: Hayseed Dixie, Álbum: Mountain Love, Fecha de lanzamiento: 2002\n",
      "Documento: 3575, Similitud: 0.0825, Título: Walk Away - Rich Edwards Remix, Artista: Sick Individuals, Álbum: Walk Away (Rich Edwards Remix), Fecha de lanzamiento: 2018-05-11\n",
      "Documento: 8178, Similitud: 0.0775, Título: Adore You, Artista: Harry Styles, Álbum: Fine Line, Fecha de lanzamiento: 2019-12-13\n",
      "Documento: 6715, Similitud: 0.0770, Título: Walk Away, Artista: Franz Ferdinand, Álbum: You Could Have It So Much Better, Fecha de lanzamiento: 2005-10-03\n",
      "Documento: 3703, Similitud: 0.0731, Título: Adore You, Artista: Harry Styles, Álbum: Adore You, Fecha de lanzamiento: 2019-12-06\n",
      "\n",
      "Tiempo de ejecución de la consulta: 0.3885 segundos\n",
      "Documento: 7131, Similitud: 0.0889, Título: Walk This Way, Artista: Hayseed Dixie, Álbum: Mountain Love, Fecha de lanzamiento: 2002\n",
      "Documento: 3575, Similitud: 0.0825, Título: Walk Away - Rich Edwards Remix, Artista: Sick Individuals, Álbum: Walk Away (Rich Edwards Remix), Fecha de lanzamiento: 2018-05-11\n",
      "Documento: 8178, Similitud: 0.0775, Título: Adore You, Artista: Harry Styles, Álbum: Fine Line, Fecha de lanzamiento: 2019-12-13\n",
      "Documento: 6715, Similitud: 0.0770, Título: Walk Away, Artista: Franz Ferdinand, Álbum: You Could Have It So Much Better, Fecha de lanzamiento: 2005-10-03\n",
      "Documento: 3703, Similitud: 0.0731, Título: Adore You, Artista: Harry Styles, Álbum: Adore You, Fecha de lanzamiento: 2019-12-06\n",
      "\n",
      "Tiempo de ejecución de la consulta: 0.1603 segundos\n",
      "Documento: 7131, Similitud: 0.0889, Título: Walk This Way, Artista: Hayseed Dixie, Álbum: Mountain Love, Fecha de lanzamiento: 2002\n",
      "Documento: 3575, Similitud: 0.0825, Título: Walk Away - Rich Edwards Remix, Artista: Sick Individuals, Álbum: Walk Away (Rich Edwards Remix), Fecha de lanzamiento: 2018-05-11\n",
      "Documento: 8178, Similitud: 0.0775, Título: Adore You, Artista: Harry Styles, Álbum: Fine Line, Fecha de lanzamiento: 2019-12-13\n",
      "Documento: 6715, Similitud: 0.0770, Título: Walk Away, Artista: Franz Ferdinand, Álbum: You Could Have It So Much Better, Fecha de lanzamiento: 2005-10-03\n",
      "Documento: 3703, Similitud: 0.0731, Título: Adore You, Artista: Harry Styles, Álbum: Adore You, Fecha de lanzamiento: 2019-12-06\n",
      "\n",
      "Tiempo de ejecución de la consulta: 0.5706 segundos\n",
      "Documento: 7131, Similitud: 0.0889, Título: Walk This Way, Artista: Hayseed Dixie, Álbum: Mountain Love, Fecha de lanzamiento: 2002\n",
      "Documento: 3575, Similitud: 0.0825, Título: Walk Away - Rich Edwards Remix, Artista: Sick Individuals, Álbum: Walk Away (Rich Edwards Remix), Fecha de lanzamiento: 2018-05-11\n",
      "Documento: 8178, Similitud: 0.0775, Título: Adore You, Artista: Harry Styles, Álbum: Fine Line, Fecha de lanzamiento: 2019-12-13\n",
      "Documento: 6715, Similitud: 0.0770, Título: Walk Away, Artista: Franz Ferdinand, Álbum: You Could Have It So Much Better, Fecha de lanzamiento: 2005-10-03\n",
      "Documento: 3703, Similitud: 0.0731, Título: Adore You, Artista: Harry Styles, Álbum: Adore You, Fecha de lanzamiento: 2019-12-06\n",
      "\n",
      "Tiempo de ejecución de la consulta: 0.2966 segundos\n",
      "Documento: 7131, Similitud: 0.0889, Título: Walk This Way, Artista: Hayseed Dixie, Álbum: Mountain Love, Fecha de lanzamiento: 2002\n",
      "Documento: 3575, Similitud: 0.0825, Título: Walk Away - Rich Edwards Remix, Artista: Sick Individuals, Álbum: Walk Away (Rich Edwards Remix), Fecha de lanzamiento: 2018-05-11\n",
      "Documento: 8178, Similitud: 0.0775, Título: Adore You, Artista: Harry Styles, Álbum: Fine Line, Fecha de lanzamiento: 2019-12-13\n",
      "Documento: 6715, Similitud: 0.0770, Título: Walk Away, Artista: Franz Ferdinand, Álbum: You Could Have It So Much Better, Fecha de lanzamiento: 2005-10-03\n",
      "Documento: 3703, Similitud: 0.0731, Título: Adore You, Artista: Harry Styles, Álbum: Adore You, Fecha de lanzamiento: 2019-12-06\n",
      "\n",
      "Tiempo de ejecución de la consulta: 0.4721 segundos\n",
      "Promedio para 1k: 0.3776100635528564 segundos\n"
     ]
    }
   ],
   "source": [
    "block_folder = './blocks10000/'\n",
    "num_docs = 1000\n",
    "\n",
    "search_engine = CosineSimilaritySearch(block_folder, num_docs, doc_metadata_map_10000,lang='en')\n",
    "\n",
    "prom = 0\n",
    "for i in range(5):\n",
    "    query = \"yea you just cant walk away\"\n",
    "    execution_time = search_engine.search_top_k(query, topk=5)\n",
    "    prom += execution_time\n",
    "\n",
    "print(f'Promedio para 1k: {prom/5} segundos')"
   ]
  },
  {
   "cell_type": "code",
   "execution_count": 8,
   "metadata": {},
   "outputs": [
    {
     "name": "stdout",
     "output_type": "stream",
     "text": [
      "Documento: 4008, Similitud: 0.0421, Título: 808, Artista: Blaque, Álbum: Blaque, Fecha de lanzamiento: 1999-05-28\n",
      "Documento: 64, Similitud: 0.0411, Título: Rattle Your Cage, Artista: Skrizzly Adams, Álbum: Young Man, Fecha de lanzamiento: 2019-11-15\n",
      "Documento: 14808, Similitud: 0.0402, Título: Club Can't Handle Me (feat. David Guetta), Artista: Flo Rida, Álbum: Only One Flo (Part 1), Fecha de lanzamiento: 2010-11-24\n",
      "Documento: 8034, Similitud: 0.0377, Título: Live for the Drop, Artista: Capital Kings, Álbum: II, Fecha de lanzamiento: 2015-10-02\n",
      "Documento: 3823, Similitud: 0.0375, Título: Oye Mi Canto - Single Version, Artista: Gloria Estefan, Álbum: Oye Mi Canto...Los Éxitos, Fecha de lanzamiento: 1989\n",
      "\n",
      "Tiempo de ejecución de la consulta: 1.0209 segundos\n",
      "Documento: 4008, Similitud: 0.0421, Título: 808, Artista: Blaque, Álbum: Blaque, Fecha de lanzamiento: 1999-05-28\n",
      "Documento: 64, Similitud: 0.0411, Título: Rattle Your Cage, Artista: Skrizzly Adams, Álbum: Young Man, Fecha de lanzamiento: 2019-11-15\n",
      "Documento: 14808, Similitud: 0.0402, Título: Club Can't Handle Me (feat. David Guetta), Artista: Flo Rida, Álbum: Only One Flo (Part 1), Fecha de lanzamiento: 2010-11-24\n",
      "Documento: 8034, Similitud: 0.0377, Título: Live for the Drop, Artista: Capital Kings, Álbum: II, Fecha de lanzamiento: 2015-10-02\n",
      "Documento: 3823, Similitud: 0.0375, Título: Oye Mi Canto - Single Version, Artista: Gloria Estefan, Álbum: Oye Mi Canto...Los Éxitos, Fecha de lanzamiento: 1989\n",
      "\n",
      "Tiempo de ejecución de la consulta: 0.8094 segundos\n",
      "Documento: 4008, Similitud: 0.0421, Título: 808, Artista: Blaque, Álbum: Blaque, Fecha de lanzamiento: 1999-05-28\n",
      "Documento: 64, Similitud: 0.0411, Título: Rattle Your Cage, Artista: Skrizzly Adams, Álbum: Young Man, Fecha de lanzamiento: 2019-11-15\n",
      "Documento: 14808, Similitud: 0.0402, Título: Club Can't Handle Me (feat. David Guetta), Artista: Flo Rida, Álbum: Only One Flo (Part 1), Fecha de lanzamiento: 2010-11-24\n",
      "Documento: 8034, Similitud: 0.0377, Título: Live for the Drop, Artista: Capital Kings, Álbum: II, Fecha de lanzamiento: 2015-10-02\n",
      "Documento: 3823, Similitud: 0.0375, Título: Oye Mi Canto - Single Version, Artista: Gloria Estefan, Álbum: Oye Mi Canto...Los Éxitos, Fecha de lanzamiento: 1989\n",
      "\n",
      "Tiempo de ejecución de la consulta: 1.3972 segundos\n",
      "Documento: 4008, Similitud: 0.0421, Título: 808, Artista: Blaque, Álbum: Blaque, Fecha de lanzamiento: 1999-05-28\n",
      "Documento: 64, Similitud: 0.0411, Título: Rattle Your Cage, Artista: Skrizzly Adams, Álbum: Young Man, Fecha de lanzamiento: 2019-11-15\n",
      "Documento: 14808, Similitud: 0.0402, Título: Club Can't Handle Me (feat. David Guetta), Artista: Flo Rida, Álbum: Only One Flo (Part 1), Fecha de lanzamiento: 2010-11-24\n",
      "Documento: 8034, Similitud: 0.0377, Título: Live for the Drop, Artista: Capital Kings, Álbum: II, Fecha de lanzamiento: 2015-10-02\n",
      "Documento: 3823, Similitud: 0.0375, Título: Oye Mi Canto - Single Version, Artista: Gloria Estefan, Álbum: Oye Mi Canto...Los Éxitos, Fecha de lanzamiento: 1989\n",
      "\n",
      "Tiempo de ejecución de la consulta: 0.8750 segundos\n",
      "Documento: 4008, Similitud: 0.0421, Título: 808, Artista: Blaque, Álbum: Blaque, Fecha de lanzamiento: 1999-05-28\n",
      "Documento: 64, Similitud: 0.0411, Título: Rattle Your Cage, Artista: Skrizzly Adams, Álbum: Young Man, Fecha de lanzamiento: 2019-11-15\n",
      "Documento: 14808, Similitud: 0.0402, Título: Club Can't Handle Me (feat. David Guetta), Artista: Flo Rida, Álbum: Only One Flo (Part 1), Fecha de lanzamiento: 2010-11-24\n",
      "Documento: 8034, Similitud: 0.0377, Título: Live for the Drop, Artista: Capital Kings, Álbum: II, Fecha de lanzamiento: 2015-10-02\n",
      "Documento: 3823, Similitud: 0.0375, Título: Oye Mi Canto - Single Version, Artista: Gloria Estefan, Álbum: Oye Mi Canto...Los Éxitos, Fecha de lanzamiento: 1989\n",
      "\n",
      "Tiempo de ejecución de la consulta: 0.7565 segundos\n",
      "Promedio para 1k: 0.9717999935150147 segundos\n"
     ]
    }
   ],
   "source": [
    "block_folder = './blocks18000/'\n",
    "num_docs = 1000\n",
    "\n",
    "search_engine = CosineSimilaritySearch(block_folder, num_docs, doc_metadata_map_18000,lang='en')\n",
    "\n",
    "prom = 0\n",
    "for i in range(5):\n",
    "    query = \"yea you just cant walk away\"\n",
    "    execution_time = search_engine.search_top_k(query, topk=5)\n",
    "    prom += execution_time\n",
    "\n",
    "print(f'Promedio para 1k: {prom/5} segundos')"
   ]
  }
 ],
 "metadata": {
  "kernelspec": {
   "display_name": "base",
   "language": "python",
   "name": "python3"
  },
  "language_info": {
   "codemirror_mode": {
    "name": "ipython",
    "version": 3
   },
   "file_extension": ".py",
   "mimetype": "text/x-python",
   "name": "python",
   "nbconvert_exporter": "python",
   "pygments_lexer": "ipython3",
   "version": "3.12.7"
  }
 },
 "nbformat": 4,
 "nbformat_minor": 2
}
