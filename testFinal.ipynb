{
 "cells": [
  {
   "cell_type": "code",
   "execution_count": 1,
   "metadata": {},
   "outputs": [
    {
     "name": "stderr",
     "output_type": "stream",
     "text": [
      "[nltk_data] Downloading package punkt to /home/ambar/nltk_data...\n",
      "[nltk_data]   Package punkt is already up-to-date!\n"
     ]
    }
   ],
   "source": [
    "from spimy2 import BSBIndexConstuction\n",
    "import pandas as pd"
   ]
  },
  {
   "cell_type": "code",
   "execution_count": 5,
   "metadata": {},
   "outputs": [
    {
     "name": "stderr",
     "output_type": "stream",
     "text": [
      "[nltk_data] Downloading package punkt to /home/ambar/nltk_data...\n",
      "[nltk_data]   Package punkt is already up-to-date!\n"
     ]
    }
   ],
   "source": [
    "from spimi import SPIMI"
   ]
  },
  {
   "cell_type": "code",
   "execution_count": 2,
   "metadata": {},
   "outputs": [],
   "source": [
    "# testeo\n",
    "path = './dataset/'\n",
    "data_path = path + 'spotify_songs_test.csv'\n",
    "\n",
    "data = pd.read_csv(data_path)"
   ]
  },
  {
   "cell_type": "code",
   "execution_count": 3,
   "metadata": {},
   "outputs": [
    {
     "name": "stdout",
     "output_type": "stream",
     "text": [
      "Block 0 written to ./blocks/block_0.txt\n",
      "Block 1 written to ./blocks/block_1.txt\n",
      "Block 2 written to ./blocks/block_2.txt\n",
      "Block 3 written to ./blocks/block_3.txt\n",
      "Block 4 written to ./blocks/block_4.txt\n",
      "Block 5 written to ./blocks/block_5.txt\n"
     ]
    }
   ],
   "source": [
    "\n",
    "merged_files = BSBIndexConstuction(data)"
   ]
  },
  {
   "cell_type": "code",
   "execution_count": 6,
   "metadata": {},
   "outputs": [
    {
     "data": {
      "text/plain": [
       "['./blocks/block_0.txt',\n",
       " './blocks/block_1.txt',\n",
       " './blocks/block_2.txt',\n",
       " './blocks/block_3.txt',\n",
       " './blocks/block_4.txt',\n",
       " './blocks/block_5.txt']"
      ]
     },
     "execution_count": 6,
     "metadata": {},
     "output_type": "execute_result"
    }
   ],
   "source": [
    "spimi = SPIMI(size_per_block=10240*4,\n",
    "              output_folder='./blocks/',\n",
    "              ram_limit=1024*1024*1024,\n",
    "              size_per_block_out= 1024*5.9)\n",
    "\n",
    "spimi.BSBIndexConstuction(data)"
   ]
  }
 ],
 "metadata": {
  "kernelspec": {
   "display_name": "usr",
   "language": "python",
   "name": "python3"
  },
  "language_info": {
   "codemirror_mode": {
    "name": "ipython",
    "version": 3
   },
   "file_extension": ".py",
   "mimetype": "text/x-python",
   "name": "python",
   "nbconvert_exporter": "python",
   "pygments_lexer": "ipython3",
   "version": "3.12.7"
  }
 },
 "nbformat": 4,
 "nbformat_minor": 2
}
